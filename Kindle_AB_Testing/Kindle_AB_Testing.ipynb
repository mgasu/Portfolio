{
 "cells": [
  {
   "cell_type": "markdown",
   "id": "4fb84cab-75fa-4e1c-9234-c075f7c950b6",
   "metadata": {},
   "source": [
    "# Kindle Ads A/B Testing \n",
    "### *Which ad is more effective....fear-based or knowledge-based?* \n",
    "Kindle released two ads \n",
    "1. persuasive ad focused on instilling fear in peoples mind about about what will happen to professional career if they dont read regularly.\n",
    "2. persuasive as focused on long term benefits of reading in one's professional life and how kindle will help with reading.\n",
    "\n",
    "So which ad led to more purchases? \n",
    "Which ad was clicked on more? \n",
    "What was the success of each campaign? "
   ]
  },
  {
   "cell_type": "code",
   "execution_count": 3,
   "id": "7e89fa21-c500-4598-a9e2-f72fc4ea689d",
   "metadata": {},
   "outputs": [
    {
     "data": {
      "text/html": [
       "<div>\n",
       "<style scoped>\n",
       "    .dataframe tbody tr th:only-of-type {\n",
       "        vertical-align: middle;\n",
       "    }\n",
       "\n",
       "    .dataframe tbody tr th {\n",
       "        vertical-align: top;\n",
       "    }\n",
       "\n",
       "    .dataframe thead th {\n",
       "        text-align: right;\n",
       "    }\n",
       "</style>\n",
       "<table border=\"1\" class=\"dataframe\">\n",
       "  <thead>\n",
       "    <tr style=\"text-align: right;\">\n",
       "      <th></th>\n",
       "      <th>ad_id</th>\n",
       "      <th>campaign_id</th>\n",
       "      <th>age</th>\n",
       "      <th>gender</th>\n",
       "      <th>interest</th>\n",
       "      <th>Impressions</th>\n",
       "      <th>Clicks</th>\n",
       "      <th>Spent</th>\n",
       "      <th>Total_Conversion</th>\n",
       "      <th>Approved_Conversion</th>\n",
       "    </tr>\n",
       "  </thead>\n",
       "  <tbody>\n",
       "    <tr>\n",
       "      <th>0</th>\n",
       "      <td>1121121</td>\n",
       "      <td>AKIN9326</td>\n",
       "      <td>30-34</td>\n",
       "      <td>M</td>\n",
       "      <td>Business &amp; industry</td>\n",
       "      <td>323899</td>\n",
       "      <td>46</td>\n",
       "      <td>78.920000</td>\n",
       "      <td>5</td>\n",
       "      <td>1</td>\n",
       "    </tr>\n",
       "    <tr>\n",
       "      <th>1</th>\n",
       "      <td>1121091</td>\n",
       "      <td>AKIN9326</td>\n",
       "      <td>30-34</td>\n",
       "      <td>M</td>\n",
       "      <td>Business &amp; industry</td>\n",
       "      <td>1194718</td>\n",
       "      <td>141</td>\n",
       "      <td>254.049996</td>\n",
       "      <td>3</td>\n",
       "      <td>1</td>\n",
       "    </tr>\n",
       "    <tr>\n",
       "      <th>2</th>\n",
       "      <td>1121092</td>\n",
       "      <td>AKIN9326</td>\n",
       "      <td>30-34</td>\n",
       "      <td>M</td>\n",
       "      <td>Business &amp; industry</td>\n",
       "      <td>637648</td>\n",
       "      <td>67</td>\n",
       "      <td>122.400000</td>\n",
       "      <td>3</td>\n",
       "      <td>0</td>\n",
       "    </tr>\n",
       "    <tr>\n",
       "      <th>3</th>\n",
       "      <td>1121094</td>\n",
       "      <td>AKIN9326</td>\n",
       "      <td>30-34</td>\n",
       "      <td>M</td>\n",
       "      <td>Business &amp; industry</td>\n",
       "      <td>24362</td>\n",
       "      <td>0</td>\n",
       "      <td>0.000000</td>\n",
       "      <td>1</td>\n",
       "      <td>1</td>\n",
       "    </tr>\n",
       "    <tr>\n",
       "      <th>4</th>\n",
       "      <td>1121095</td>\n",
       "      <td>AKIN9326</td>\n",
       "      <td>30-34</td>\n",
       "      <td>M</td>\n",
       "      <td>Business &amp; industry</td>\n",
       "      <td>459690</td>\n",
       "      <td>50</td>\n",
       "      <td>86.330001</td>\n",
       "      <td>3</td>\n",
       "      <td>2</td>\n",
       "    </tr>\n",
       "  </tbody>\n",
       "</table>\n",
       "</div>"
      ],
      "text/plain": [
       "     ad_id campaign_id    age gender             interest  Impressions  \\\n",
       "0  1121121    AKIN9326  30-34      M  Business & industry       323899   \n",
       "1  1121091    AKIN9326  30-34      M  Business & industry      1194718   \n",
       "2  1121092    AKIN9326  30-34      M  Business & industry       637648   \n",
       "3  1121094    AKIN9326  30-34      M  Business & industry        24362   \n",
       "4  1121095    AKIN9326  30-34      M  Business & industry       459690   \n",
       "\n",
       "   Clicks       Spent  Total_Conversion  Approved_Conversion  \n",
       "0      46   78.920000                 5                    1  \n",
       "1     141  254.049996                 3                    1  \n",
       "2      67  122.400000                 3                    0  \n",
       "3       0    0.000000                 1                    1  \n",
       "4      50   86.330001                 3                    2  "
      ]
     },
     "execution_count": 3,
     "metadata": {},
     "output_type": "execute_result"
    }
   ],
   "source": [
    "#Loading the data\n",
    "import pandas as pd\n",
    "\n",
    "file_path = '/Users/mariagarcia/Desktop/Portfolio/AB testing/kindle AB testing dataset.xlsx'\n",
    "df = pd.read_excel(file_path)\n",
    "\n",
    "# Display the first few rows of the dataset\n",
    "df.head()\n"
   ]
  },
  {
   "cell_type": "markdown",
   "id": "9f3b30f4-293c-4b8a-90cc-49b0e5f3d113",
   "metadata": {},
   "source": [
    "## Creating New Metrics: \n",
    "1. Conversion rates: number of clicks divided by impressions\n",
    "2. Cost per Conversion"
   ]
  },
  {
   "cell_type": "code",
   "execution_count": 14,
   "id": "39949a5d-4b72-407e-9dd1-e410ddf4a468",
   "metadata": {},
   "outputs": [],
   "source": [
    "# Calculate conversion rates (clicks / impressions) by campaign\n",
    "df['Conversion_Rate'] = df['Clicks'] / df['Impressions']\n"
   ]
  },
  {
   "cell_type": "code",
   "execution_count": 22,
   "id": "f6876b7d-4f6f-4e7e-a539-2128230fbf16",
   "metadata": {},
   "outputs": [
    {
     "name": "stdout",
     "output_type": "stream",
     "text": [
      "     ad_id campaign_id    age gender             interest  Impressions  \\\n",
      "0  1121121    AKIN9326  30-34      M  Business & industry       323899   \n",
      "1  1121091    AKIN9326  30-34      M  Business & industry      1194718   \n",
      "2  1121092    AKIN9326  30-34      M  Business & industry       637648   \n",
      "3  1121094    AKIN9326  30-34      M  Business & industry        24362   \n",
      "4  1121095    AKIN9326  30-34      M  Business & industry       459690   \n",
      "\n",
      "   Clicks       Spent  Total_Conversion  Approved_Conversion  Conversion_Rate  \\\n",
      "0      46   78.920000                 5                    1         0.000142   \n",
      "1     141  254.049996                 3                    1         0.000118   \n",
      "2      67  122.400000                 3                    0         0.000105   \n",
      "3       0    0.000000                 1                    1         0.000000   \n",
      "4      50   86.330001                 3                    2         0.000109   \n",
      "\n",
      "   Cost_per_Conversion  \n",
      "0             1.715652  \n",
      "1             1.801773  \n",
      "2             1.826866  \n",
      "3                  NaN  \n",
      "4             1.726600  \n"
     ]
    }
   ],
   "source": [
    "# Create a new column for cost per conversion (Cost / clicks)\n",
    "df['Cost_per_Conversion'] = df['Spent'] / df['Clicks'].replace(0, float('nan'))\n",
    "print(df.head())"
   ]
  },
  {
   "cell_type": "markdown",
   "id": "27d170e0-fd9e-404d-926f-dd4299171749",
   "metadata": {},
   "source": [
    "### Perform a two-proportion z-test for the conversion rates"
   ]
  },
  {
   "cell_type": "code",
   "execution_count": 31,
   "id": "a90c251c-bdea-4b99-ad84-47ddef0ffc04",
   "metadata": {},
   "outputs": [],
   "source": [
    "# Calculate the total number of clicks and impressions for each campaign\n",
    "campaign_grouped = df.groupby('campaign_id').agg({'Clicks': 'sum', 'Impressions': 'sum'})"
   ]
  },
  {
   "cell_type": "code",
   "execution_count": 35,
   "id": "2d9e81bf-4f78-4c81-80bb-3292b70f3d97",
   "metadata": {},
   "outputs": [],
   "source": [
    "# Extract the values\n",
    "clicks_A = campaign_grouped.loc[df['campaign_id'].unique()[0], 'Clicks']\n",
    "impressions_A = campaign_grouped.loc[df['campaign_id'].unique()[0], 'Impressions']\n",
    "clicks_B = campaign_grouped.loc[df['campaign_id'].unique()[1], 'Clicks']\n",
    "impressions_B = campaign_grouped.loc[df['campaign_id'].unique()[1], 'Impressions']"
   ]
  },
  {
   "cell_type": "code",
   "execution_count": 43,
   "id": "2e7d4a77-ccb0-4864-8a5e-8533554b2511",
   "metadata": {},
   "outputs": [],
   "source": [
    "# Perform z-test\n",
    "from statsmodels.stats.proportion import proportions_ztest\n",
    "z_stat, p_val = proportions_ztest([clicks_A, clicks_B], [impressions_A, impressions_B])"
   ]
  },
  {
   "cell_type": "code",
   "execution_count": 45,
   "id": "673c76ed-b4ea-4d6e-b39d-c7e956910c71",
   "metadata": {},
   "outputs": [
    {
     "name": "stdout",
     "output_type": "stream",
     "text": [
      "Z-statistic: -7.572949111121001\n",
      "P-value: 3.648452539649333e-14\n"
     ]
    }
   ],
   "source": [
    "print(f\"Z-statistic: {z_stat}\")\n",
    "print(f\"P-value: {p_val}\")"
   ]
  },
  {
   "cell_type": "markdown",
   "id": "c0f36215-004b-4b9e-b02f-0e515567fe80",
   "metadata": {},
   "source": [
    "### Results"
   ]
  },
  {
   "cell_type": "code",
   "execution_count": 47,
   "id": "252c2a38-745a-4747-979e-3063d9d36d1a",
   "metadata": {},
   "outputs": [
    {
     "name": "stdout",
     "output_type": "stream",
     "text": [
      "Reject the null hypothesis: There is a significant difference in conversion rates between the two campaigns.\n"
     ]
    }
   ],
   "source": [
    "#Results \n",
    "alpha = 0.05\n",
    "if p_val < alpha:\n",
    "    print(\"Reject the null hypothesis: There is a significant difference in conversion rates between the two campaigns.\")\n",
    "else:\n",
    "    print(\"Fail to reject the null hypothesis: There is no significant difference in conversion rates between the two campaigns.\")"
   ]
  },
  {
   "cell_type": "code",
   "execution_count": null,
   "id": "03fa4801-7460-4b6b-aa4a-d55caa3d5d48",
   "metadata": {},
   "outputs": [],
   "source": []
  }
 ],
 "metadata": {
  "kernelspec": {
   "display_name": "Python 3 (ipykernel)",
   "language": "python",
   "name": "python3"
  },
  "language_info": {
   "codemirror_mode": {
    "name": "ipython",
    "version": 3
   },
   "file_extension": ".py",
   "mimetype": "text/x-python",
   "name": "python",
   "nbconvert_exporter": "python",
   "pygments_lexer": "ipython3",
   "version": "3.11.8"
  }
 },
 "nbformat": 4,
 "nbformat_minor": 5
}
